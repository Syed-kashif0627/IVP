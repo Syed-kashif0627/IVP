{
 "cells": [
  {
   "cell_type": "code",
   "execution_count": 5,
   "metadata": {},
   "outputs": [
    {
     "name": "stdout",
     "output_type": "stream",
     "text": [
      "Video compressed and saved to compressedVideo.mp4\n",
      "Compression time: 1.74 seconds\n"
     ]
    }
   ],
   "source": [
    "import cv2\n",
    "import time\n",
    "\n",
    "input_video = \"camelVideo.mp4\"  # Replace with your input video file path\n",
    "output_video = \"compressedVideo.mp4\"  # Replace with desired output path\n",
    "quality = 0.3  # Adjust quality as needed (0.0 - 1.0)\n",
    "\n",
    "cap = cv2.VideoCapture(input_video)\n",
    "\n",
    "if not cap.isOpened():\n",
    "    print(\"Could not open video file.\")\n",
    "    exit()\n",
    "\n",
    "frame_width = int(cap.get(cv2.CAP_PROP_FRAME_WIDTH))\n",
    "frame_height = int(cap.get(cv2.CAP_PROP_FRAME_HEIGHT))\n",
    "fps = cap.get(cv2.CAP_PROP_FPS)\n",
    "\n",
    "new_width = int(frame_width * quality)  # Calculate new width *before* creating the writer\n",
    "new_height = int(frame_height * quality) # Calculate new height *before* creating the writer\n",
    "\n",
    "fourcc = cv2.VideoWriter_fourcc(*'mp4v')  # Codec for .mp4 (use 'XVID' for .avi)\n",
    "out = cv2.VideoWriter(output_video, fourcc, fps, (new_width, new_height)) # Use new dimensions here!\n",
    "\n",
    "\n",
    "start_time = time.time()\n",
    "\n",
    "while cap.isOpened():\n",
    "    ret, frame = cap.read()\n",
    "    if not ret:\n",
    "        break\n",
    "\n",
    "    resized_frame = cv2.resize(frame, (new_width, new_height)) # Now the resizing matches the writer\n",
    "\n",
    "    out.write(resized_frame)\n",
    "\n",
    "end_time = time.time()\n",
    "elapsed_time = end_time - start_time\n",
    "\n",
    "cap.release()\n",
    "out.release()\n",
    "cv2.destroyAllWindows()\n",
    "\n",
    "print(f\"Video compressed and saved to {output_video}\")\n",
    "print(f\"Compression time: {elapsed_time:.2f} seconds\")"
   ]
  }
 ],
 "metadata": {
  "kernelspec": {
   "display_name": "Python 3",
   "language": "python",
   "name": "python3"
  },
  "language_info": {
   "codemirror_mode": {
    "name": "ipython",
    "version": 3
   },
   "file_extension": ".py",
   "mimetype": "text/x-python",
   "name": "python",
   "nbconvert_exporter": "python",
   "pygments_lexer": "ipython3",
   "version": "3.13.0"
  }
 },
 "nbformat": 4,
 "nbformat_minor": 2
}
